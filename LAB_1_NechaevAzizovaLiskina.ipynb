{
  "nbformat": 4,
  "nbformat_minor": 0,
  "metadata": {
    "colab": {
      "provenance": [],
      "authorship_tag": "ABX9TyP+L4ZzVnSdZNovemKQGp5X",
      "include_colab_link": true
    },
    "kernelspec": {
      "name": "python3",
      "display_name": "Python 3"
    },
    "language_info": {
      "name": "python"
    }
  },
  "cells": [
    {
      "cell_type": "markdown",
      "metadata": {
        "id": "view-in-github",
        "colab_type": "text"
      },
      "source": [
        "<a href=\"https://colab.research.google.com/github/VulgarBOMB/spark_lab/blob/main/LAB_1_NechaevAzizovaLiskina.ipynb\" target=\"_parent\"><img src=\"https://colab.research.google.com/assets/colab-badge.svg\" alt=\"Open In Colab\"/></a>"
      ]
    },
    {
      "cell_type": "markdown",
      "source": [
        "### Инсталяция библиотеки PySpark\n",
        "### Создание директорий для выгрузки итоговых паркетников\n",
        "![image (1).png](data:image/png;base64,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)"
      ],
      "metadata": {
        "id": "Yo5hyYr3TVnf"
      }
    },
    {
      "cell_type": "code",
      "source": [
        "!pip install pyspark\n",
        "!mkdir task1\n",
        "!mkdir task2\n",
        "!mkdir task3\n",
        "!mkdir task4\n",
        "!mkdir task5"
      ],
      "metadata": {
        "id": "1Zjh8iJbfN7a"
      },
      "execution_count": null,
      "outputs": []
    },
    {
      "cell_type": "markdown",
      "source": [
        "### Создание сессии PySpark под названием sparkProject"
      ],
      "metadata": {
        "id": "zDl25IYDTpki"
      }
    },
    {
      "cell_type": "code",
      "source": [
        "import pyspark\n",
        "from pyspark.sql import SparkSession\n",
        "from pyspark.sql.functions import col, count, avg\n",
        "\n",
        "spark = SparkSession.builder.master(\"local[1]\") \\\n",
        "                    .appName('sparkProject') \\\n",
        "                    .getOrCreate()"
      ],
      "metadata": {
        "id": "eyn48q4EkQMp"
      },
      "execution_count": null,
      "outputs": []
    },
    {
      "cell_type": "markdown",
      "source": [
        "# Получение данных из паркетников\n",
        "Реализация проверок на типы данных, дубликаты и Null-значения\n",
        "```\n",
        "checkDataTypes(df)\n",
        "checkDuplicateRows(df)\n",
        "checkWholeNullItem(df)\n",
        "```\n",
        "\n"
      ],
      "metadata": {
        "id": "IKKbosL4SwlO"
      }
    },
    {
      "cell_type": "code",
      "source": [
        "jobsDF = spark.read.parquet(\"jobs.parquet\")\n",
        "employeesDF = spark.read.parquet(\"employees.parquet\")\n",
        "departmentsDF = spark.read.parquet(\"department.parquet\")\n",
        "\n",
        "def checkDataTypes(jobsDF, departmentsDF, employeesDF):\n",
        "  if dict(jobsDF.dtypes)['job_id'] != 'string'\\\n",
        "    or dict(jobsDF.dtypes)['job_title'] != 'string'\\\n",
        "    or dict(jobsDF.dtypes)['min_salary'] != 'float':\n",
        "    print('Типы данных в JOBS некорректные')\n",
        "    return False\n",
        "  elif dict(departmentsDF.dtypes)['department_id'] != 'int'\\\n",
        "    or dict(departmentsDF.dtypes)['department_name'] != 'string':\n",
        "    print('Типы данных в DEPARTMENTS некорректные')\n",
        "    return False\n",
        "  elif dict(employeesDF.dtypes)['first_name'] != 'string'\\\n",
        "    or dict(employeesDF.dtypes)['last_name'] != 'string'\\\n",
        "    or dict(employeesDF.dtypes)['job_id'] != 'string'\\\n",
        "    or dict(employeesDF.dtypes)['salary'] != 'float'\\\n",
        "    or dict(employeesDF.dtypes)['department_id'] != 'int':\n",
        "    print('Типы данных в EMPLOYEES некорректные')\n",
        "    return False\n",
        "  else:\n",
        "    print('Все типы данных конкретные')\n",
        "    return True\n",
        "\n",
        "def checkWholeNullItem(jobsDF, departmentsDF, employeesDF):\n",
        "  if jobsDF.filter(\n",
        "      col('job_id').isNull() |\n",
        "      col('job_title').isNull() |\n",
        "      col('min_salary').isNull()\n",
        "  ).count() > 0:\n",
        "    print('JOBS имеет NULL-значения:')\n",
        "    jobsDF.filter((col('job_id').isNull()) |\n",
        "                  (col('job_title').isNull()) |\n",
        "                  (col('min_salary').isNull())).show()\n",
        "    return False\n",
        "  elif departmentsDF.filter(\n",
        "      col('department_id').isNull() |\n",
        "      col('department_name').isNull()\n",
        "  ).count() > 0:\n",
        "    print('DEPARTMENTS имеет NULL-значения:')\n",
        "    departmentsDF.filter((col('department_id').isNull()) |\n",
        "                         (col('department_name').isNull())).show()\n",
        "    return False\n",
        "  elif employeesDF.filter(\n",
        "      col('first_name').isNull() |\n",
        "      col('last_name').isNull() |\n",
        "      col('job_id').isNull() |\n",
        "      col('salary').isNull() |\n",
        "      col('department_id').isNull()\n",
        "  ).count() > 0:\n",
        "    print('EMPLOYEES имеет NUUL-значения:')\n",
        "    employeesDF.filter((col('first_name').isNull()) |\n",
        "                       (col('last_name').isNull()) |\n",
        "                       (col('job_id').isNull()) |\n",
        "                       (col('salary').isNull()) |\n",
        "                       (col('department_id').isNull())).show()\n",
        "    return False\n",
        "  else:\n",
        "    print('Нет NULL-значений в таблицах')\n",
        "    return True\n",
        "\n",
        "def checkDuplicateRows(jobsDF, departmentsDF, employeesDF):\n",
        "  department_counts = departmentsDF\\\n",
        "    .groupBy(\"department_name\")\\\n",
        "    .agg(count(\"*\")\\\n",
        "    .alias(\"count\"))\\\n",
        "    .filter(col(\"count\") > 1)\\\n",
        "    .count()\n",
        "\n",
        "  job_counts = jobsDF\\\n",
        "    .groupBy(\"job_title\")\\\n",
        "    .agg(count(\"*\")\\\n",
        "    .alias(\"count\"))\\\n",
        "    .filter(col(\"count\") > 1)\\\n",
        "    .count()\n",
        "\n",
        "  employee_counts = employeesDF\\\n",
        "    .groupBy(\"first_name\", \"last_name\", \"job_id\", \"salary\", \"department_id\")\\\n",
        "    .agg(count(\"*\")\\\n",
        "    .alias(\"count\"))\\\n",
        "    .filter(col(\"count\") > 1)\\\n",
        "    .count()\n",
        "\n",
        "  if (department_counts + job_counts + employee_counts) != 0:\n",
        "    print('В одной из таблиц найдены дубликаты')\n",
        "    return False\n",
        "  else:\n",
        "    print('Дубликаты не были найдены')\n",
        "    return True"
      ],
      "metadata": {
        "id": "7YauCyrIlvON"
      },
      "execution_count": null,
      "outputs": []
    },
    {
      "cell_type": "markdown",
      "source": [
        "# ЗАДАЧА 1"
      ],
      "metadata": {
        "id": "8HgVIkcxSskO"
      }
    },
    {
      "cell_type": "code",
      "source": [
        "if (checkDataTypes(jobsDF, departmentsDF, employeesDF) &\n",
        "checkDuplicateRows(jobsDF, departmentsDF, employeesDF)):\n",
        "\n",
        "  checkWholeNullItem(jobsDF, departmentsDF, employeesDF)\n",
        "\n",
        "  emp = employeesDF.join(departmentsDF, departmentsDF.department_id == employeesDF.department_id, \"inner\")\\\n",
        "    .drop(departmentsDF.department_id)\\\n",
        "    .filter((departmentsDF.department_name == 'IT') | (departmentsDF.department_name == 'Sales'))\\\n",
        "    .select(employeesDF.first_name, employeesDF.last_name, departmentsDF.department_name)\n",
        "\n",
        "  print('Первые 10 строк полученного DataFrame:')\n",
        "  emp.limit(10).show()\n",
        "  emp.write.partitionBy('department_name').mode('overwrite').parquet(\"/content/task1\")\n",
        "  print('Число строк в Employees: ' + str(employeesDF.count()))\n",
        "  print('Число строк после запроса: ' + str(emp.count()))\n",
        "\n",
        "else:\n",
        "  print('Не пройдено одно из условий выше ↑')"
      ],
      "metadata": {
        "id": "ygRfero1n_gQ"
      },
      "execution_count": null,
      "outputs": []
    },
    {
      "cell_type": "markdown",
      "source": [
        "# ЗАДАЧА 2"
      ],
      "metadata": {
        "id": "ODok8kVHSpCW"
      }
    },
    {
      "cell_type": "code",
      "source": [
        "if (checkDataTypes(jobsDF, departmentsDF, employeesDF) &\n",
        "checkDuplicateRows(jobsDF, departmentsDF, employeesDF)):\n",
        "\n",
        "  checkWholeNullItem(jobsDF, departmentsDF, employeesDF)\n",
        "\n",
        "  emp = employeesDF.\\\n",
        "    join(departmentsDF, departmentsDF.department_id == employeesDF.department_id, \"inner\").\\\n",
        "    join(jobsDF, jobsDF.job_id == employeesDF.job_id, \"inner\").\\\n",
        "    filter(employeesDF.salary > 10000).\\\n",
        "    select(employeesDF.first_name, employeesDF.last_name, employeesDF.salary, departmentsDF.department_name, jobsDF.job_title).\\\n",
        "    orderBy(employeesDF.salary.asc())\n",
        "\n",
        "  print('Первые 10 строк полученного DataFrame:')\n",
        "  emp.limit(10).show()\n",
        "  emp.write.partitionBy('department_name', 'job_title').mode('overwrite').parquet(\"/content/task2\")\n",
        "  print('Число строк в Employees: ' + str(employeesDF.count()))\n",
        "  print('Число строк после запроса: ' + str(emp.count()))\n",
        "\n",
        "else:\n",
        "  print('Не пройдено одно из условий выше ↑')"
      ],
      "metadata": {
        "id": "jPKD2UBOOt2i"
      },
      "execution_count": null,
      "outputs": []
    },
    {
      "cell_type": "markdown",
      "source": [
        "# ЗАДАЧА 3"
      ],
      "metadata": {
        "id": "4SUl6uXxScte"
      }
    },
    {
      "cell_type": "code",
      "source": [
        "if (checkDataTypes(jobsDF, departmentsDF, employeesDF) &\n",
        "checkDuplicateRows(jobsDF, departmentsDF, employeesDF)):\n",
        "\n",
        "  checkWholeNullItem(jobsDF, departmentsDF, employeesDF)\n",
        "\n",
        "  emp = employeesDF.\\\n",
        "    join(jobsDF, jobsDF.job_id == employeesDF.job_id, \"inner\").\\\n",
        "    filter((employeesDF.salary >= jobsDF.min_salary) & (employeesDF.salary <= jobsDF.min_salary*1.2)).\\\n",
        "    select(employeesDF.first_name.alias('Имя'), employeesDF.last_name.alias('Фамилия'), employeesDF.salary.alias('Оклад'), jobsDF.min_salary.alias('Минимальный оклад')).\\\n",
        "    orderBy(employeesDF.salary.asc())\n",
        "\n",
        "  print('Первые 10 строк полученного DataFrame:')\n",
        "  emp.limit(10).show()\n",
        "  emp.write.partitionBy('Минимальный оклад').mode('overwrite').parquet(\"/content/task3\")\n",
        "  print('Число строк в Employees: ' + str(employeesDF.count()))\n",
        "  print('Число строк после запроса: ' + str(emp.count()))\n",
        "\n",
        "else:\n",
        "  print('Не пройдено одно из условий выше ↑')"
      ],
      "metadata": {
        "id": "bR76HH5OSW-2"
      },
      "execution_count": null,
      "outputs": []
    },
    {
      "cell_type": "markdown",
      "source": [
        "# ЗАДАЧА 4"
      ],
      "metadata": {
        "id": "st1FvwkzVZK8"
      }
    },
    {
      "cell_type": "code",
      "source": [
        "if (checkDataTypes(jobsDF, departmentsDF, employeesDF) &\n",
        "checkDuplicateRows(jobsDF, departmentsDF, employeesDF)):\n",
        "\n",
        "  checkWholeNullItem(jobsDF, departmentsDF, employeesDF)\n",
        "\n",
        "  avg_salary = employeesDF.agg(avg(employeesDF.salary)).collect()[0][0]\n",
        "  print('Средняя зарплата: ' + str(avg_salary))\n",
        "  emp = employeesDF.\\\n",
        "    filter(employeesDF.salary > avg_salary).\\\n",
        "    select(employeesDF.last_name.alias('Фамилия_Р'), employeesDF.first_name.alias('Имя'), employeesDF.salary.alias('Оклад')).\\\n",
        "    orderBy(employeesDF.salary.asc())\n",
        "\n",
        "  print('Первые 10 строк полученного DataFrame:')\n",
        "  emp.limit(10).show()\n",
        "  emp.write.partitionBy('Оклад').mode('overwrite').parquet(\"/content/task4\")\n",
        "  print('Число строк в Employees: ' + str(employeesDF.count()))\n",
        "  print('Число строк после запроса: ' + str(emp.count()))\n",
        "\n",
        "else:\n",
        "  print('Не пройдено одно из условий выше ↑')"
      ],
      "metadata": {
        "id": "h2pbrNo8Vcks"
      },
      "execution_count": null,
      "outputs": []
    },
    {
      "cell_type": "markdown",
      "source": [
        "# Задача 5"
      ],
      "metadata": {
        "id": "FRrTgljKay74"
      }
    },
    {
      "cell_type": "code",
      "source": [
        "if (checkDataTypes(jobsDF, departmentsDF, employeesDF) &\n",
        "checkDuplicateRows(jobsDF, departmentsDF, employeesDF)):\n",
        "\n",
        "  checkWholeNullItem(jobsDF, departmentsDF, employeesDF)\n",
        "\n",
        "  emp = employeesDF.\\\n",
        "    join(jobsDF, jobsDF.job_id == employeesDF.job_id, \"inner\").\\\n",
        "    filter(employeesDF.salary == jobsDF.min_salary).\\\n",
        "    select(employeesDF.first_name.alias('Имя'), employeesDF.last_name.alias('Фамилия'), jobsDF.job_title.alias('Должность'), employeesDF.salary.alias('Оклад'))\n",
        "\n",
        "  print('Минимальные З/П по должностям')\n",
        "  jobsDF.select(jobsDF.job_title, jobsDF.min_salary).\\\n",
        "    orderBy(jobsDF.min_salary.asc()).\\\n",
        "    show(20, False)\n",
        "\n",
        "  print('Первые 10 строк полученного DataFrame:')\n",
        "  emp.limit(10).show()\n",
        "  emp.write.partitionBy('Должность').mode('overwrite').parquet(\"/content/task5\")\n",
        "  print('Число строк в Employees: ' + str(employeesDF.count()))\n",
        "  print('Число строк после запроса: ' + str(emp.count()))\n",
        "\n",
        "else:\n",
        "  print('Не пройдено одно из условий выше ↑')"
      ],
      "metadata": {
        "id": "vZKoyaiDxzMy"
      },
      "execution_count": null,
      "outputs": []
    }
  ]
}