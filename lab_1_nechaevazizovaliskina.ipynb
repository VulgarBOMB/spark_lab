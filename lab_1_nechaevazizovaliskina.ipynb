{
  "nbformat": 4,
  "nbformat_minor": 0,
  "metadata": {
    "colab": {
      "provenance": [],
      "authorship_tag": "ABX9TyO1W2LUFMqpXIEvZMFMCSHj",
      "include_colab_link": true
    },
    "kernelspec": {
      "name": "python3",
      "display_name": "Python 3"
    },
    "language_info": {
      "name": "python"
    }
  },
  "cells": [
    {
      "cell_type": "markdown",
      "metadata": {
        "id": "view-in-github",
        "colab_type": "text"
      },
      "source": [
        "<a href=\"https://colab.research.google.com/github/VulgarBOMB/spark_lab/blob/main/lab_1_nechaevazizovaliskina.ipynb\" target=\"_parent\"><img src=\"https://colab.research.google.com/assets/colab-badge.svg\" alt=\"Open In Colab\"/></a>"
      ]
    },
    {
      "cell_type": "markdown",
      "source": [
        "### Инсталяция библиотеки PySpark\n",
        "### Создание директорий для выгрузки итоговых паркетников"
      ],
      "metadata": {
        "id": "Yo5hyYr3TVnf"
      }
    },
    {
      "cell_type": "code",
      "source": [
        "!pip install pyspark\n",
        "!mkdir task1\n",
        "!mkdir task2\n",
        "!mkdir task3\n",
        "!mkdir task4\n",
        "!mkdir task5"
      ],
      "metadata": {
        "id": "1Zjh8iJbfN7a"
      },
      "execution_count": null,
      "outputs": []
    },
    {
      "cell_type": "markdown",
      "source": [
        "### Создание сессии PySpark под названием sparkProject"
      ],
      "metadata": {
        "id": "zDl25IYDTpki"
      }
    },
    {
      "cell_type": "code",
      "source": [
        "import pyspark\n",
        "from pyspark.sql import SparkSession\n",
        "from pyspark.sql.functions import col, count, avg\n",
        "\n",
        "spark = SparkSession.builder.master(\"local[1]\") \\\n",
        "                    .appName('sparkProject') \\\n",
        "                    .getOrCreate()"
      ],
      "metadata": {
        "id": "eyn48q4EkQMp"
      },
      "execution_count": null,
      "outputs": []
    },
    {
      "cell_type": "markdown",
      "source": [
        "# Получение данных из паркетников\n",
        "Реализация проверок на типы данных, дубликаты и Null-значения\n",
        "```\n",
        "checkDataTypes(df)\n",
        "checkDuplicateRows(df)\n",
        "checkWholeNullItem(df)\n",
        "```\n",
        "\n"
      ],
      "metadata": {
        "id": "IKKbosL4SwlO"
      }
    },
    {
      "cell_type": "code",
      "source": [
        "jobsDF = spark.read.parquet(\"jobs.parquet\")\n",
        "employeesDF = spark.read.parquet(\"employees.parquet\")\n",
        "departmentsDF = spark.read.parquet(\"department.parquet\")\n",
        "\n",
        "def checkDataTypes(jobsDF, departmentsDF, employeesDF):\n",
        "  if dict(jobsDF.dtypes)['job_id'] != 'string'\\\n",
        "    or dict(jobsDF.dtypes)['job_title'] != 'string'\\\n",
        "    or dict(jobsDF.dtypes)['min_salary'] != 'float':\n",
        "    print('Типы данных в JOBS некорректные')\n",
        "    return False\n",
        "  elif dict(departmentsDF.dtypes)['department_id'] != 'int'\\\n",
        "    or dict(departmentsDF.dtypes)['department_name'] != 'string':\n",
        "    print('Типы данных в DEPARTMENTS некорректные')\n",
        "    return False\n",
        "  elif dict(employeesDF.dtypes)['first_name'] != 'string'\\\n",
        "    or dict(employeesDF.dtypes)['last_name'] != 'string'\\\n",
        "    or dict(employeesDF.dtypes)['job_id'] != 'string'\\\n",
        "    or dict(employeesDF.dtypes)['salary'] != 'float'\\\n",
        "    or dict(employeesDF.dtypes)['department_id'] != 'int':\n",
        "    print('Типы данных в EMPLOYEES некорректные')\n",
        "    return False\n",
        "  else:\n",
        "    print('Все типы данных конкретные')\n",
        "    return True\n",
        "\n",
        "def checkWholeNullItem(jobsDF, departmentsDF, employeesDF):\n",
        "  if jobsDF.filter(\n",
        "      col('job_id').isNull() |\n",
        "      col('job_title').isNull() |\n",
        "      col('min_salary').isNull()\n",
        "  ).count() > 0:\n",
        "    print('JOBS имеет NULL-значения:')\n",
        "    jobsDF.filter((col('job_id').isNull()) |\n",
        "                  (col('job_title').isNull()) |\n",
        "                  (col('min_salary').isNull())).show()\n",
        "    return False\n",
        "  elif departmentsDF.filter(\n",
        "      col('department_id').isNull() |\n",
        "      col('department_name').isNull()\n",
        "  ).count() > 0:\n",
        "    print('DEPARTMENTS имеет NULL-значения:')\n",
        "    departmentsDF.filter((col('department_id').isNull()) |\n",
        "                         (col('department_name').isNull())).show()\n",
        "    return False\n",
        "  elif employeesDF.filter(\n",
        "      col('first_name').isNull() |\n",
        "      col('last_name').isNull() |\n",
        "      col('job_id').isNull() |\n",
        "      col('salary').isNull() |\n",
        "      col('department_id').isNull()\n",
        "  ).count() > 0:\n",
        "    print('EMPLOYEES имеет NUUL-значения:')\n",
        "    employeesDF.filter((col('first_name').isNull()) |\n",
        "                       (col('last_name').isNull()) |\n",
        "                       (col('job_id').isNull()) |\n",
        "                       (col('salary').isNull()) |\n",
        "                       (col('department_id').isNull())).show()\n",
        "    return False\n",
        "  else:\n",
        "    print('Нет NULL-значений в таблицах')\n",
        "    return True\n",
        "\n",
        "def checkDuplicateRows(jobsDF, departmentsDF, employeesDF):\n",
        "  department_counts = departmentsDF\\\n",
        "    .groupBy(\"department_name\")\\\n",
        "    .agg(count(\"*\")\\\n",
        "    .alias(\"count\"))\\\n",
        "    .filter(col(\"count\") > 1)\\\n",
        "    .count()\n",
        "\n",
        "  job_counts = jobsDF\\\n",
        "    .groupBy(\"job_title\")\\\n",
        "    .agg(count(\"*\")\\\n",
        "    .alias(\"count\"))\\\n",
        "    .filter(col(\"count\") > 1)\\\n",
        "    .count()\n",
        "\n",
        "  employee_counts = employeesDF\\\n",
        "    .groupBy(\"first_name\", \"last_name\", \"job_id\", \"salary\", \"department_id\")\\\n",
        "    .agg(count(\"*\")\\\n",
        "    .alias(\"count\"))\\\n",
        "    .filter(col(\"count\") > 1)\\\n",
        "    .count()\n",
        "\n",
        "  if (department_counts + job_counts + employee_counts) != 0:\n",
        "    print('В одной из таблиц найдены дубликаты')\n",
        "    return False\n",
        "  else:\n",
        "    print('Дубликаты не были найдены')\n",
        "    return True"
      ],
      "metadata": {
        "id": "7YauCyrIlvON"
      },
      "execution_count": null,
      "outputs": []
    },
    {
      "cell_type": "markdown",
      "source": [
        "# ЗАДАЧА 1"
      ],
      "metadata": {
        "id": "8HgVIkcxSskO"
      }
    },
    {
      "cell_type": "code",
      "source": [
        "if (checkDataTypes(jobsDF, departmentsDF, employeesDF) &\n",
        "checkDuplicateRows(jobsDF, departmentsDF, employeesDF)):\n",
        "\n",
        "  checkWholeNullItem(jobsDF, departmentsDF, employeesDF)\n",
        "\n",
        "  emp = employeesDF.join(departmentsDF, departmentsDF.department_id == employeesDF.department_id, \"inner\")\\\n",
        "    .drop(departmentsDF.department_id)\\\n",
        "    .filter((departmentsDF.department_name == 'IT') | (departmentsDF.department_name == 'Sales'))\\\n",
        "    .select(employeesDF.first_name, employeesDF.last_name, departmentsDF.department_name)\n",
        "\n",
        "  print('Первые 10 строк полученного DataFrame:')\n",
        "  emp.limit(10).show()\n",
        "  emp.write.partitionBy('department_name').mode('overwrite').parquet(\"/content/task1\")\n",
        "  print('Число строк в Employees: ' + str(employeesDF.count()))\n",
        "  print('Число строк после запроса: ' + str(emp.count()))\n",
        "\n",
        "else:\n",
        "  print('Не пройдено одно из условий выше ↑')"
      ],
      "metadata": {
        "id": "ygRfero1n_gQ"
      },
      "execution_count": null,
      "outputs": []
    },
    {
      "cell_type": "markdown",
      "source": [
        "# ЗАДАЧА 2"
      ],
      "metadata": {
        "id": "ODok8kVHSpCW"
      }
    },
    {
      "cell_type": "code",
      "source": [
        "if (checkDataTypes(jobsDF, departmentsDF, employeesDF) &\n",
        "checkDuplicateRows(jobsDF, departmentsDF, employeesDF)):\n",
        "\n",
        "  checkWholeNullItem(jobsDF, departmentsDF, employeesDF)\n",
        "\n",
        "  emp = employeesDF.\\\n",
        "    join(departmentsDF, departmentsDF.department_id == employeesDF.department_id, \"inner\").\\\n",
        "    join(jobsDF, jobsDF.job_id == employeesDF.job_id, \"inner\").\\\n",
        "    filter(employeesDF.salary > 10000).\\\n",
        "    select(employeesDF.first_name, employeesDF.last_name, employeesDF.salary, departmentsDF.department_name, jobsDF.job_title).\\\n",
        "    orderBy(employeesDF.salary.asc())\n",
        "\n",
        "  print('Первые 10 строк полученного DataFrame:')\n",
        "  emp.limit(10).show()\n",
        "  emp.write.partitionBy('department_name', 'job_title').mode('overwrite').parquet(\"/content/task2\")\n",
        "  print('Число строк в Employees: ' + str(employeesDF.count()))\n",
        "  print('Число строк после запроса: ' + str(emp.count()))\n",
        "\n",
        "else:\n",
        "  print('Не пройдено одно из условий выше ↑')"
      ],
      "metadata": {
        "id": "jPKD2UBOOt2i"
      },
      "execution_count": null,
      "outputs": []
    },
    {
      "cell_type": "markdown",
      "source": [
        "# ЗАДАЧА 3"
      ],
      "metadata": {
        "id": "4SUl6uXxScte"
      }
    },
    {
      "cell_type": "code",
      "source": [
        "if (checkDataTypes(jobsDF, departmentsDF, employeesDF) &\n",
        "checkDuplicateRows(jobsDF, departmentsDF, employeesDF)):\n",
        "\n",
        "  checkWholeNullItem(jobsDF, departmentsDF, employeesDF)\n",
        "\n",
        "  emp = employeesDF.\\\n",
        "    join(jobsDF, jobsDF.job_id == employeesDF.job_id, \"inner\").\\\n",
        "    filter((employeesDF.salary >= jobsDF.min_salary) & (employeesDF.salary <= jobsDF.min_salary*1.2)).\\\n",
        "    select(employeesDF.first_name.alias('Имя'), employeesDF.last_name.alias('Фамилия'), employeesDF.salary.alias('Оклад'), jobsDF.min_salary.alias('Минимальный оклад')).\\\n",
        "    orderBy(employeesDF.salary.asc())\n",
        "\n",
        "  print('Первые 10 строк полученного DataFrame:')\n",
        "  emp.limit(10).show()\n",
        "  emp.write.partitionBy('Минимальный оклад').mode('overwrite').parquet(\"/content/task3\")\n",
        "  print('Число строк в Employees: ' + str(employeesDF.count()))\n",
        "  print('Число строк после запроса: ' + str(emp.count()))\n",
        "\n",
        "else:\n",
        "  print('Не пройдено одно из условий выше ↑')"
      ],
      "metadata": {
        "id": "bR76HH5OSW-2"
      },
      "execution_count": null,
      "outputs": []
    },
    {
      "cell_type": "markdown",
      "source": [
        "# ЗАДАЧА 4"
      ],
      "metadata": {
        "id": "st1FvwkzVZK8"
      }
    },
    {
      "cell_type": "code",
      "source": [
        "if (checkDataTypes(jobsDF, departmentsDF, employeesDF) &\n",
        "checkDuplicateRows(jobsDF, departmentsDF, employeesDF)):\n",
        "\n",
        "  checkWholeNullItem(jobsDF, departmentsDF, employeesDF)\n",
        "\n",
        "  avg_salary = employeesDF.agg(avg(employeesDF.salary)).collect()[0][0]\n",
        "  print('Средняя зарплата: ' + str(avg_salary))\n",
        "  emp = employeesDF.\\\n",
        "    filter(employeesDF.salary > avg_salary).\\\n",
        "    select(employeesDF.last_name.alias('Фамилия_Р'), employeesDF.first_name.alias('Имя'), employeesDF.salary.alias('Оклад')).\\\n",
        "    orderBy(employeesDF.salary.asc())\n",
        "\n",
        "  print('Первые 10 строк полученного DataFrame:')\n",
        "  emp.limit(10).show()\n",
        "  emp.write.partitionBy('Оклад').mode('overwrite').parquet(\"/content/task4\")\n",
        "  print('Число строк в Employees: ' + str(employeesDF.count()))\n",
        "  print('Число строк после запроса: ' + str(emp.count()))\n",
        "\n",
        "else:\n",
        "  print('Не пройдено одно из условий выше ↑')"
      ],
      "metadata": {
        "id": "h2pbrNo8Vcks"
      },
      "execution_count": null,
      "outputs": []
    },
    {
      "cell_type": "markdown",
      "source": [
        "# Задача 5"
      ],
      "metadata": {
        "id": "FRrTgljKay74"
      }
    },
    {
      "cell_type": "code",
      "source": [
        "if (checkDataTypes(jobsDF, departmentsDF, employeesDF) &\n",
        "checkDuplicateRows(jobsDF, departmentsDF, employeesDF)):\n",
        "\n",
        "  checkWholeNullItem(jobsDF, departmentsDF, employeesDF)\n",
        "\n",
        "  emp = employeesDF.\\\n",
        "    join(jobsDF, jobsDF.job_id == employeesDF.job_id, \"inner\").\\\n",
        "    filter(employeesDF.salary == jobsDF.min_salary).\\\n",
        "    select(employeesDF.first_name.alias('Имя'), employeesDF.last_name.alias('Фамилия'), jobsDF.job_title.alias('Должность'), employeesDF.salary.alias('Оклад'))\n",
        "\n",
        "  print('Минимальные З/П по должностям')\n",
        "  jobsDF.select(jobsDF.job_title, jobsDF.min_salary).\\\n",
        "    orderBy(jobsDF.min_salary.asc()).\\\n",
        "    show(20, False)\n",
        "\n",
        "  print('Первые 10 строк полученного DataFrame:')\n",
        "  emp.limit(10).show()\n",
        "  emp.write.partitionBy('Должность').mode('overwrite').parquet(\"/content/task5\")\n",
        "  print('Число строк в Employees: ' + str(employeesDF.count()))\n",
        "  print('Число строк после запроса: ' + str(emp.count()))\n",
        "\n",
        "else:\n",
        "  print('Не пройдено одно из условий выше ↑')"
      ],
      "metadata": {
        "id": "vZKoyaiDxzMy"
      },
      "execution_count": null,
      "outputs": []
    }
  ]
}